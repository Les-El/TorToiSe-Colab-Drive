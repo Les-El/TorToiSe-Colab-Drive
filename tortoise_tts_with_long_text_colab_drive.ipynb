{
  "cells": [
    {
      "cell_type": "markdown",
      "metadata": {
        "id": "view-in-github",
        "colab_type": "text"
      },
      "source": [
        "<a href=\"https://colab.research.google.com/github/Les-El/TorToiSe-Colab-Drive/blob/main/tortoise_tts_with_long_text_colab_drive.ipynb\" target=\"_parent\"><img src=\"https://colab.research.google.com/assets/colab-badge.svg\" alt=\"Open In Colab\"/></a>"
      ]
    },
    {
      "cell_type": "markdown",
      "metadata": {
        "id": "TgLNCRRe4MZN"
      },
      "source": [
        "# **Welcome to Tortoise! 🐢🐢🐢🐢**\n",
        "## **\"Colab + Drive UI Edition\"**\n",
        "\n",
        "### About this notebook\n",
        "\n",
        "TorToiSe was developed by James Betker: https://github.com/neonbjb. It is a text-to-speech program built with the following priorities: Strong multi-voice capabilities, and highly realistic prosody and intonation. The repo contains all the code needed to run Tortoise TTS in inference mode, plus more like examples and documentation.\n",
        "\n",
        "A YouTube video by Martin Thissen presented a Tortoise notebook which could handle much longer text files: https://youtu.be/FN3yxL0Rr0c. Please check it out for more details, and for an interface that isn't Google Drive dependent.\n",
        "\n",
        "This notebook here, the \"Colab + Drive UI Edition\" is built on that notebook from YouTube, and is meant to be novice friendly. It is desgined to be run from top-to-bottom, once all settings have been chosen. \n",
        "\n",
        "If you have any questions or requests about the notebook, find me at https://discordapp.com/users/Lester#0973. The is a side/learning project for me, so I can't promise to address all issues. But I enjoy developing this notebook, so don't be shy!\n",
        "\n",
        "One more note from James Betker:\n",
        "> There's a reason this is called \"Tortoise\" - this model takes up to a minute to perform inference for a single sentence on a GPU. Expect waits on the order of hours on a CPU."
      ]
    },
    {
      "cell_type": "markdown",
      "source": [
        "# **0. Instructions**"
      ],
      "metadata": {
        "id": "jl6fopqN11Z5"
      }
    },
    {
      "cell_type": "markdown",
      "source": [
        "##  \n",
        "1.   *Before you begin, I **strongly** recommend you turn on a GPU runtime. (If you have Colab Pro, this is automatic.)*\n",
        "2.   Upload a UTF-8 encoded .txt file into the Google Drive folder AI/Tortoise_TTS/Text.\n",
        "    *    You can make this folder yourself, or let the \"Check GPU & Mount Google Drive\" cell do it for you.\n",
        "3.    In Notebook Settings, supply the name of your .txt file.\n",
        "4.    Choose 1 or 2 preset voices to read your text. \n",
        "    *    (If you choose 2 voices, Tortoise will attempt to blend them into a new voice. But sometimes it will just randomly switch back and forth between the voices in entertaining ways.)\n",
        "5.    Or, select \"create custom voice\" to create a new voice from your own audio file.\n",
        "6.    Choose your processing speed: Higher-Quality is the slowest. \"Fast\" is pretty darn good!\n",
        "7.    Choose a whole number for a \"seed number,\" or just leave it random.\n",
        "8.    If you are creating a new voice:\n",
        "    *    Upload a 1-2 minute voice sample as a .wav file (with floating point format and a 22,050 sample rate) to your Google Drive in AI/Tortoise_TTS/Voices/Samples\n",
        "    *    (**DEV TO-DO**: MAKE UPLOADING VOICE SAMPLE EASIER FOR USERS)\n",
        "    *    In the \"Optional - Upload Audio\" cell, input the name of the .wav file you are using, and the name you want to give your new voice.\n",
        "9.    **Run all!**"
      ],
      "metadata": {
        "id": "Uzr9Nq02gBXi"
      }
    },
    {
      "cell_type": "markdown",
      "source": [
        "# **1. Check GPU & Mount Google Drive**\n",
        "This process will create the needed folders in your Google Drive if not already present"
      ],
      "metadata": {
        "id": "cmkZJWADQeKz"
      }
    },
    {
      "cell_type": "code",
      "execution_count": null,
      "metadata": {
        "id": "BvKNJqJnoX1G"
      },
      "outputs": [],
      "source": [
        "import torch\n",
        "\n",
        "# Check if GPU is available\n",
        "if torch.cuda.is_available():\n",
        "    device = torch.device(\"cuda\")\n",
        "    \n",
        "    # Get GPU name\n",
        "    gpu_name = torch.cuda.get_device_name(0)\n",
        "    \n",
        "    # Get GPU memory usage\n",
        "    total_memory = torch.cuda.get_device_properties(0).total_memory / (1024 ** 3)\n",
        "    allocated_memory = torch.cuda.memory_allocated(0) / (1024 ** 3)\n",
        "    reserved_memory = torch.cuda.memory_reserved(0) / (1024 ** 3)\n",
        "    \n",
        "    print(f\"Device: {device}\")\n",
        "    print(f\"GPU: {gpu_name}\")\n",
        "    print(f\"Total memory (GB): {total_memory:.2f}\")\n",
        "    print(f\"Allocated memory (GB): {allocated_memory:.2f}\")\n",
        "    print(f\"Reserved memory (GB): {reserved_memory:.2f}\")\n",
        "else:\n",
        "    print(\"No GPU available.\")\n",
        "\n",
        "\n",
        "# Mount Google Drive\n",
        "from google.colab import drive\n",
        "\n",
        "drive.mount('/content/drive')\n",
        "\n",
        "# Create file structure in Google Drive\n",
        "!mkdir -p '/content/drive/MyDrive/AI/Tortoise_TTS/Models'\n",
        "!mkdir -p '/content/drive/MyDrive/AI/Tortoise_TTS/Text'\n",
        "!mkdir -p '/content/drive/MyDrive/AI/Tortoise_TTS/Samples'\n",
        "!mkdir -p '/content/drive/MyDrive/AI/Tortoise_TTS/Voices'\n",
        "!mkdir -p '/content/drive/MyDrive/AI/Tortoise_TTS/Voices/Output'\n",
        "!mkdir -p '/content/drive/MyDrive/AI/Tortoise_TTS/Voices/Samples'\n"
      ]
    },
    {
      "cell_type": "markdown",
      "metadata": {
        "id": "_FJPkAxtQQsp"
      },
      "source": [
        "# **2. Notebook Settings**\n",
        "Upload a UTF-8 encoded .txt file into the folder:\n",
        "MyDrive/AI/Tortoise_TTS/Text"
      ]
    },
    {
      "cell_type": "code",
      "execution_count": null,
      "metadata": {
        "id": "drS85jDzp_y9",
        "cellView": "form"
      },
      "outputs": [],
      "source": [
        "#@markdown #####**Choose your text file:**\n",
        "text_file = \"test10.txt\" #@param {type:\"string\"}\n",
        "#@markdown ---\n",
        "#@markdown #####**Choose your voice:**\n",
        "voice_name = \"\\\"CUSTOM_VOICE_NAME\\\"\" #@param ['CUSTOM_VOICE_NAME','weaver', 'train_empire', 'applejack', 'william', 'freeman', 'pat2', 'myself', 'tim_reynolds', 'train_mouse', 'halle', 'deniro', 'geralt', 'mol', 'pat', 'train_lescault', 'daniel', 'train_daws', 'train_atkins', 'jlaw', 'tom', 'emma', 'train_dotrice', 'train_dreams', 'train_grace', 'angie', 'train_kennard', 'rainbow', 'snakes', 'lj'] {allow-input: true}\n",
        "#@markdown #####**Choose your second voice (if you want to combine voices):**\n",
        "second_voice_name = \"None\" #@param ['None', 'weaver', 'train_empire', 'applejack', 'william', 'freeman', 'pat2', 'myself', 'tim_reynolds', 'train_mouse', 'halle', 'deniro', 'geralt', 'mol', 'pat', 'train_lescault', 'daniel', 'train_daws', 'train_atkins', 'jlaw', 'tom', 'emma', 'train_dotrice', 'train_dreams', 'train_grace', 'angie', 'train_kennard', 'rainbow', 'snakes', 'lj'] {allow-input: true}\n",
        "#@markdown ---\n",
        "#@markdown #####**Check below if you want to upload .wav files to make a custom voice instead:**\n",
        "#@markdown Check for more options in the **\"Upload Audio\"** cells\n",
        "create_custom_voice = True #@param{type:\"boolean\"}\n",
        "#@markdown ---\n",
        "#@markdown #####**Choose your processing speed; default is 'fast':**\n",
        "speed_setting = \"standard\" #@param [\"ultra_fast\", \"fast\", \"standard\", \"high_quality\"]\n",
        "#@markdown ---\n",
        "#@markdown ##### **Choose your seed:**\n",
        "#@markdown ##### 'random_seed' is based on system clock\n",
        "#@markdown ##### Any other entry must be an interger\n",
        "from time import time\n",
        "random_seed = int(time())\n",
        "seed_setting = random_seed #@param [\"random_seed\"] {type:\"raw\", allow-input: true}\n",
        "\n",
        "# #@markdown #####**Check below if you want the the models downloaded from HuggingFace to be stored on your Google Drive:**\n",
        "# local_model_save = True #@param{type:\"boolean\"}\n",
        "\n",
        "# If create_custom_voice is selected, force change other variables to avoid errors\n",
        "if create_custom_voice:\n",
        "    voice_name = \"CUSTOM_VOICE_NAME\"\n",
        "    second_voice_name = \"None\""
      ]
    },
    {
      "cell_type": "markdown",
      "metadata": {
        "id": "_pIZ3ZXNp7cf"
      },
      "source": [
        "# **3. Downloading and installing the Tortoise-TTS model**"
      ]
    },
    {
      "cell_type": "markdown",
      "source": [
        "## **3.1** Install SciPy and Tortoise-TTS\n"
      ],
      "metadata": {
        "id": "SXcbdXz4ePIo"
      }
    },
    {
      "cell_type": "code",
      "execution_count": null,
      "metadata": {
        "id": "JrK20I32grP6"
      },
      "outputs": [],
      "source": [
        "# the scipy version packaged with colab is not tolerant of misformated WAV files.\n",
        "# install the latest version.\n",
        "\n",
        "\n",
        "# Creates global variable\n",
        "global tts_cloned\n",
        "try:\n",
        "    tts_cloned\n",
        "except NameError:\n",
        "    tts_cloned = False\n",
        "\n",
        "if not tts_cloned:\n",
        "  !pip3 install -U scipy\n",
        "  !git clone https://github.com/jnordberg/tortoise-tts.git\n",
        "  %cd tortoise-tts\n",
        "  !pip3 install -r requirements.txt\n",
        "  !pip3 install transformers==4.19.0 einops==0.5.0 rotary_embedding_torch==0.1.5 unidecode==1.3.5\n",
        "  !python3 setup.py install\n",
        "  tts_cloned = True"
      ]
    },
    {
      "cell_type": "markdown",
      "source": [
        "## **3.2** Initialize TextToSpeech Instance"
      ],
      "metadata": {
        "id": "jl6WSlyQed-h"
      }
    },
    {
      "cell_type": "code",
      "source": [
        "# Imports used through the rest of the notebook.\n",
        "\n",
        "try:\n",
        "    tts_initialized\n",
        "except NameError:\n",
        "    tts_initialized = False\n",
        "\n",
        "if not tts_initialized:\n",
        "  import os\n",
        "  import torchaudio\n",
        "  import torch.nn as nn\n",
        "  import torch.nn.functional as F\n",
        "  import IPython\n",
        "\n",
        "  from tortoise.api import TextToSpeech\n",
        "  from tortoise.utils.audio import load_audio, load_voice, load_voices\n",
        "  \n",
        "  tts = TextToSpeech()\n",
        "\n",
        "tts_initialized = True"
      ],
      "metadata": {
        "id": "vaqka9h2F7Ke"
      },
      "execution_count": null,
      "outputs": []
    },
    {
      "cell_type": "markdown",
      "metadata": {
        "id": "KMmLyris73JZ"
      },
      "source": [
        "# **4. Optional - Upload audios sample to create a custom voice**"
      ]
    },
    {
      "cell_type": "markdown",
      "source": [
        "## **4.1** Slice .wav file into samples\n",
        "Upload a 1-2 minute voice sample as a .wav file with floating point format and a 22,050 sample rate\n",
        "\n",
        "Place the file in your Google Drive in AI/Tortoise_TTS/Voices/Samples"
      ],
      "metadata": {
        "id": "b-lScMhy7gRo"
      }
    },
    {
      "cell_type": "code",
      "source": [
        "# Set the path to your Google Drive folder\n",
        "samples_folder = \"/content/drive/MyDrive/AI/Tortoise_TTS/Voices/Samples\"\n",
        "\n",
        "#@markdown ##### **Enter the name of your .wav file:** \n",
        "#@markdown (place file in your Google Drive in AI/Tortoise_TTS/Voices/Samples)\n",
        "voice_sample = \"sample.wav\" #@param [\"sample.wav\"] {allow-input: true}\n",
        "#@markdown ---\n",
        "#@markdown ##### **Give your new voice a name:** \n",
        "CUSTOM_VOICE_NAME = \"John_Doe\" #@param [\"John_Doe\"] {allow-input: true}\n",
        "\n",
        "!pip install pydub\n",
        "from pydub import AudioSegment\n",
        "import os\n",
        "import random\n",
        "import shutil\n",
        "from tortoise.utils.audio import get_voices\n",
        "\n",
        "sound = AudioSegment.from_file(f\"{samples_folder}/{voice_sample}\", format=\"wav\")\n",
        "\n",
        "output_folder = \"audio_segments\"\n",
        "\n",
        "os.makedirs(output_folder, exist_ok=True)\n",
        "\n",
        "min_duration = 6000\n",
        "max_duration = 10000\n",
        "\n",
        "for i in range(5):\n",
        "    start_time = random.randint(0, len(sound) - max_duration)\n",
        "    end_time = start_time + random.randint(min_duration, max_duration)\n",
        "\n",
        "    segment = sound[start_time:end_time]\n",
        "    output_filename = f\"output_{i+1}.wav\"\n",
        "    output_filepath = os.path.join(output_folder, output_filename)\n",
        "    segment.export(output_filepath, format=\"wav\")\n",
        "\n",
        "    print(f\"Segment {i+1} saved to: {output_filepath}\")\n",
        "\n",
        "custom_voice_folder = f\"tortoise/voices/{CUSTOM_VOICE_NAME}\"\n",
        "os.makedirs(custom_voice_folder, exist_ok=True)\n",
        "\n",
        "input_files = [f for f in os.listdir(output_folder) if f.endswith('.wav')]\n",
        "\n",
        "for i, input_file in enumerate(input_files):\n",
        "    input_filepath = os.path.join(output_folder, input_file)\n",
        "    output_filepath = os.path.join(custom_voice_folder, f'{i}.wav')\n",
        "    shutil.copy(input_filepath, output_filepath)\n",
        "    print(f\"Segment {i+1} copied to: {output_filepath}\")\n",
        "\n",
        "from tortoise.utils.audio import get_voices\n",
        "\n",
        "voices = get_voices()\n",
        "\n",
        "# Use input_files instead of custom_voice_files\n",
        "voices[CUSTOM_VOICE_NAME] = [os.path.join(custom_voice_folder, f\"{i}.wav\") for i in range(len(input_files))]\n",
        "\n",
        "from tortoise.utils import audio\n",
        "\n",
        "audio.voices = voices\n"
      ],
      "metadata": {
        "id": "5ZzlTlbw7jc1",
        "cellView": "form"
      },
      "execution_count": null,
      "outputs": []
    },
    {
      "cell_type": "markdown",
      "metadata": {
        "id": "bEARFmgn8Et7"
      },
      "source": [
        "# **5. Generate longer speech - TTS Processing**"
      ]
    },
    {
      "cell_type": "code",
      "execution_count": null,
      "metadata": {
        "id": "CSjn1jNfgA1y"
      },
      "outputs": [],
      "source": [
        "from tortoise.utils.text import split_and_recombine_text\n",
        "from datetime import datetime\n",
        "\n",
        "outpath = \"results/longform/\"\n",
        "text_folder_path = '/content/drive/MyDrive/AI/Tortoise_TTS/Text'\n",
        "\n",
        "textfile_path = os.path.join(text_folder_path, text_file)\n",
        "\n",
        "# Process text\n",
        "with open(textfile_path, 'r', encoding='utf-8') as f:\n",
        "    text = ' '.join([l for l in f.readlines()])\n",
        "    if '|' in text:\n",
        "        print(\"Found the '|' character in your text, which I will use as a cue for where to split it up. If this was not\"\n",
        "              \"your intent, please remove all '|' characters from the input.\")\n",
        "        texts = text.split('|')\n",
        "    else:\n",
        "        texts = split_and_recombine_text(text)\n",
        "\n",
        "seed = seed_setting\n",
        "\n",
        "voice_outpath = os.path.join(outpath, voice_name)\n",
        "os.makedirs(voice_outpath, exist_ok=True)\n",
        "\n",
        "if second_voice_name == \"None\":\n",
        "    voice_samples, conditioning_latents = load_voice(CUSTOM_VOICE_NAME)\n",
        "else:\n",
        "    voice_samples, conditioning_latents = load_voices([CUSTOM_VOICE_NAME, second_voice_name])\n",
        "\n",
        "all_parts = []\n",
        "for j, text in enumerate(texts):\n",
        "    gen = tts.tts_with_preset(text, voice_samples=voice_samples, conditioning_latents=conditioning_latents,\n",
        "                              preset=speed_setting, k=1, use_deterministic_seed=seed)\n",
        "    gen = gen.squeeze(0).cpu()\n",
        "    torchaudio.save(os.path.join(voice_outpath, f'{j}.wav'), gen, 24000)\n",
        "    all_parts.append(gen)\n",
        "\n",
        "full_audio = torch.cat(all_parts, dim=-1)\n",
        "torchaudio.save(os.path.join(voice_outpath, 'combined.wav'), full_audio, 24000)\n",
        "\n",
        "# Save to Google Drive\n",
        "# Define the folder structure in Google Drive\n",
        "gdrive_folder = \"/content/drive/MyDrive/AI/Tortoise_TTS/Output\"\n",
        "\n",
        "# Create the folder structure if it doesn't exist\n",
        "if not os.path.exists(gdrive_folder):\n",
        "    os.makedirs(gdrive_folder)\n",
        "\n",
        "# Save the audio file to Google Drive\n",
        "timestamp = datetime.now().strftime(\"%Y%m%d_%H%M%S\")\n",
        "gdrive_outpath = f\"{gdrive_folder}/{voice_name}_{timestamp}.wav\"\n",
        "torchaudio.save(gdrive_outpath, full_audio, 24000)\n",
        "print(f\"File saved to Google Drive: {gdrive_outpath}\")\n"
      ]
    },
    {
      "cell_type": "markdown",
      "source": [
        "# **6 Audio Output**"
      ],
      "metadata": {
        "id": "pOcJL1lpbVpQ"
      }
    },
    {
      "cell_type": "code",
      "source": [
        "IPython.display.Audio(os.path.join(voice_outpath, 'combined.wav'))"
      ],
      "metadata": {
        "id": "rJwJdo22bDd2"
      },
      "execution_count": null,
      "outputs": []
    },
    {
      "cell_type": "markdown",
      "metadata": {
        "id": "X_gDeJdVWIZf"
      },
      "source": [
        "# **7. Troubleshooting codes**"
      ]
    },
    {
      "cell_type": "code",
      "execution_count": null,
      "metadata": {
        "id": "J5ZiSDvu-VMc"
      },
      "outputs": [],
      "source": [
        "#@markdown ##### **Check below if you want to enable troubleshooting** \n",
        "troubleshoot_cells = False #@param{type:\"boolean\"}\n",
        "\n",
        "if troubleshoot_cells is True:\n",
        "    # Print list of available voices\n",
        "    from tortoise.utils.audio import get_voices\n",
        "\n",
        "    available_voices = get_voices()\n",
        "    print(\"Available voices:\", list(available_voices.keys()))\n",
        "\n",
        "\n",
        "    # Check to see if the output audio file exists, and here it is\n",
        "    if os.path.exists(os.path.join(voice_outpath, 'combined.wav')):\n",
        "        print(f\"The 'combined.wav' file is available at: {os.path.join(voice_outpath, 'combined.wav')}\")\n",
        "    else:\n",
        "        print(\"The 'combined.wav' file is not found.\")\n",
        "\n",
        "\n",
        "    # Download the error dump\n",
        "    if os.path.exists(alignment_debug_file_path):\n",
        "        current_working_directory = os.getcwd()\n",
        "        alignment_debug_file = \"alignment_debug.pth\"\n",
        "        alignment_debug_file_path = os.path.join(current_working_directory, alignment_debug_file)\n",
        "        files.download(alignment_debug_file_path)\n",
        "\n",
        "\n",
        "    # Check if the custom voice files are saved in the correct folder\n",
        "    import glob\n",
        "\n",
        "    custom_voice_files = glob.glob(f\"{custom_voice_folder}/*.wav\")\n",
        "    print(f\"Custom voice folder: {custom_voice_folder}\")\n",
        "    print(f\"Number of custom voice files: {len(custom_voice_files)}\")\n",
        "    for file in custom_voice_files:\n",
        "        print(file)\n",
        "    \n",
        "\n",
        "    # Check the available voices after adding the custom voice:\n",
        "    from tortoise.utils.audio import get_voices\n",
        "\n",
        "    voices = get_voices()\n",
        "    print(\"Available voices:\")\n",
        "    for voice_name in voices:\n",
        "        print(voice_name)\n",
        "\n",
        "\n",
        "    # Check if the custom voice is in the list of available voices:\n",
        "    if CUSTOM_VOICE_NAME in voices:\n",
        "        print(f\"{CUSTOM_VOICE_NAME} is in the list of available voices.\")\n",
        "    if CUSTOM_VOICE_NAME in voices:\n",
        "        print(f\"{CUSTOM_VOICE_NAME} is in the list of available voices.\")\n",
        "\n",
        "\n",
        "    # Print the custom voice's files from the list of available voices:\n",
        "    print(f\"{CUSTOM_VOICE_NAME} files in the available voices list:\")\n",
        "    for file in voices[CUSTOM_VOICE_NAME]:\n",
        "        print(file)\n"
      ]
    }
  ],
  "metadata": {
    "accelerator": "GPU",
    "colab": {
      "collapsed_sections": [
        "TgLNCRRe4MZN",
        "cmkZJWADQeKz",
        "_pIZ3ZXNp7cf",
        "SXcbdXz4ePIo",
        "jl6WSlyQed-h",
        "KMmLyris73JZ"
      ],
      "machine_shape": "hm",
      "provenance": [],
      "private_outputs": true,
      "include_colab_link": true
    },
    "gpuClass": "standard",
    "kernelspec": {
      "display_name": "Python 3",
      "name": "python3"
    },
    "language_info": {
      "name": "python"
    }
  },
  "nbformat": 4,
  "nbformat_minor": 0
}